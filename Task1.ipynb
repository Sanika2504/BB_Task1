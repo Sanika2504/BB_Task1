{
 "cells": [
  {
   "cell_type": "code",
   "execution_count": 10,
   "id": "f2235ecd-60ee-4ce1-93cb-07b6a9d69d2c",
   "metadata": {},
   "outputs": [],
   "source": [
    "import pandas as pd"
   ]
  },
  {
   "cell_type": "code",
   "execution_count": 11,
   "id": "5616fa0d-11a0-473b-83ad-7e169d02ca3a",
   "metadata": {},
   "outputs": [],
   "source": [
    "df =  pd.read_csv(\"Data1.csv\")"
   ]
  },
  {
   "cell_type": "code",
   "execution_count": 12,
   "id": "f57e4b40-b8c8-4f3c-a2db-c25a588a4b25",
   "metadata": {},
   "outputs": [
    {
     "data": {
      "text/html": [
       "<div>\n",
       "<style scoped>\n",
       "    .dataframe tbody tr th:only-of-type {\n",
       "        vertical-align: middle;\n",
       "    }\n",
       "\n",
       "    .dataframe tbody tr th {\n",
       "        vertical-align: top;\n",
       "    }\n",
       "\n",
       "    .dataframe thead th {\n",
       "        text-align: right;\n",
       "    }\n",
       "</style>\n",
       "<table border=\"1\" class=\"dataframe\">\n",
       "  <thead>\n",
       "    <tr style=\"text-align: right;\">\n",
       "      <th></th>\n",
       "      <th>Region</th>\n",
       "      <th>Sales</th>\n",
       "      <th>Profit</th>\n",
       "    </tr>\n",
       "  </thead>\n",
       "  <tbody>\n",
       "    <tr>\n",
       "      <th>0</th>\n",
       "      <td>North</td>\n",
       "      <td>200</td>\n",
       "      <td>20</td>\n",
       "    </tr>\n",
       "    <tr>\n",
       "      <th>1</th>\n",
       "      <td>South</td>\n",
       "      <td>150</td>\n",
       "      <td>15</td>\n",
       "    </tr>\n",
       "    <tr>\n",
       "      <th>2</th>\n",
       "      <td>East</td>\n",
       "      <td>240</td>\n",
       "      <td>24</td>\n",
       "    </tr>\n",
       "    <tr>\n",
       "      <th>3</th>\n",
       "      <td>South</td>\n",
       "      <td>140</td>\n",
       "      <td>14</td>\n",
       "    </tr>\n",
       "    <tr>\n",
       "      <th>4</th>\n",
       "      <td>West</td>\n",
       "      <td>150</td>\n",
       "      <td>15</td>\n",
       "    </tr>\n",
       "    <tr>\n",
       "      <th>5</th>\n",
       "      <td>East</td>\n",
       "      <td>300</td>\n",
       "      <td>30</td>\n",
       "    </tr>\n",
       "    <tr>\n",
       "      <th>6</th>\n",
       "      <td>West</td>\n",
       "      <td>240</td>\n",
       "      <td>24</td>\n",
       "    </tr>\n",
       "    <tr>\n",
       "      <th>7</th>\n",
       "      <td>North</td>\n",
       "      <td>250</td>\n",
       "      <td>25</td>\n",
       "    </tr>\n",
       "  </tbody>\n",
       "</table>\n",
       "</div>"
      ],
      "text/plain": [
       "  Region  Sales  Profit\n",
       "0  North    200      20\n",
       "1  South    150      15\n",
       "2   East    240      24\n",
       "3  South    140      14\n",
       "4   West    150      15\n",
       "5   East    300      30\n",
       "6   West    240      24\n",
       "7  North    250      25"
      ]
     },
     "execution_count": 12,
     "metadata": {},
     "output_type": "execute_result"
    }
   ],
   "source": [
    "df"
   ]
  },
  {
   "cell_type": "code",
   "execution_count": 13,
   "id": "38bcc139-8b94-4ecb-b6eb-4c4786cb85fd",
   "metadata": {},
   "outputs": [
    {
     "data": {
      "text/plain": [
       "Region    0\n",
       "Sales     0\n",
       "Profit    0\n",
       "dtype: int64"
      ]
     },
     "execution_count": 13,
     "metadata": {},
     "output_type": "execute_result"
    }
   ],
   "source": [
    "df.isnull().sum()"
   ]
  },
  {
   "cell_type": "markdown",
   "id": "09c61756-a208-4c95-83ce-0c4ad8c1d97c",
   "metadata": {},
   "source": [
    "## Normalize_Salary"
   ]
  },
  {
   "cell_type": "code",
   "execution_count": 14,
   "id": "ca844ffb-3ecd-43c3-aaf3-8ef6cb0f14d8",
   "metadata": {},
   "outputs": [],
   "source": [
    "def normalize_salary(x):\n",
    "    return (x - x.mean()) / x.std()"
   ]
  },
  {
   "cell_type": "markdown",
   "id": "d92ca8c1-224b-4e51-b1f6-1e88848eb8f0",
   "metadata": {},
   "source": [
    "## Custom transformation using groupby and apply"
   ]
  },
  {
   "cell_type": "code",
   "execution_count": 17,
   "id": "e7e333a0-1abf-4ac8-8f07-45ba61f31230",
   "metadata": {},
   "outputs": [],
   "source": [
    "def region_summary(group):\n",
    "    return pd.Series({\n",
    "        'Total_Sales': group['Sales'].sum(),\n",
    "        'Avg_Profit': group['Profit'].mean(),\n",
    "        'Sales_Range': group['Sales'].max() - group['Sales'].min()\n",
    "    })"
   ]
  },
  {
   "cell_type": "code",
   "execution_count": 19,
   "id": "096f146d-3af4-403f-8e4b-7c82b44fb21a",
   "metadata": {},
   "outputs": [
    {
     "name": "stdout",
     "output_type": "stream",
     "text": [
      "Custom Transformation using apply + groupby:\n",
      "         Total_Sales  Avg_Profit  Sales_Range\n",
      "Region                                      \n",
      "East          540.0        27.0         60.0\n",
      "North         450.0        22.5         50.0\n",
      "South         290.0        14.5         10.0\n",
      "West          390.0        19.5         90.0\n"
     ]
    }
   ],
   "source": [
    "summary = df.groupby('Region').apply(region_summary)\n",
    "print(\"Custom Transformation using apply + groupby:\\n\", summary)\n"
   ]
  },
  {
   "cell_type": "code",
   "execution_count": null,
   "id": "7344edf4-8e17-42d9-848d-cc5206fd845c",
   "metadata": {},
   "outputs": [],
   "source": []
  }
 ],
 "metadata": {
  "kernelspec": {
   "display_name": "Python 3 (ipykernel)",
   "language": "python",
   "name": "python3"
  },
  "language_info": {
   "codemirror_mode": {
    "name": "ipython",
    "version": 3
   },
   "file_extension": ".py",
   "mimetype": "text/x-python",
   "name": "python",
   "nbconvert_exporter": "python",
   "pygments_lexer": "ipython3",
   "version": "3.11.7"
  }
 },
 "nbformat": 4,
 "nbformat_minor": 5
}
