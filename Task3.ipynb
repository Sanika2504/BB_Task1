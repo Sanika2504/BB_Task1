{
 "cells": [
  {
   "cell_type": "code",
   "execution_count": 1,
   "id": "5d6a406a-62db-4936-81b7-632203891a81",
   "metadata": {},
   "outputs": [],
   "source": [
    "import numpy as np "
   ]
  },
  {
   "cell_type": "code",
   "execution_count": 2,
   "id": "3a8595ad-7601-4c25-9ff3-90bd198c1e95",
   "metadata": {},
   "outputs": [],
   "source": [
    "A = np.array([[3, 1, 1],[-1, 3, 1]])"
   ]
  },
  {
   "cell_type": "code",
   "execution_count": 3,
   "id": "07962e8b-c49d-4418-b4fd-9298c30082a0",
   "metadata": {},
   "outputs": [
    {
     "name": "stdout",
     "output_type": "stream",
     "text": [
      "Original Matrix A:\n",
      "[[ 3  1  1]\n",
      " [-1  3  1]]\n"
     ]
    }
   ],
   "source": [
    "print(\"Original Matrix A:\")\n",
    "print(A)"
   ]
  },
  {
   "cell_type": "markdown",
   "id": "85322f07-426e-4519-afb3-320f38ef0c65",
   "metadata": {},
   "source": [
    "## Performed SVD"
   ]
  },
  {
   "cell_type": "code",
   "execution_count": 4,
   "id": "9160a004-3211-4b3c-851e-ef6cdbdeab3d",
   "metadata": {},
   "outputs": [],
   "source": [
    "U, S, VT = np.linalg.svd(A)"
   ]
  },
  {
   "cell_type": "code",
   "execution_count": 5,
   "id": "04a08ea7-8b83-42e9-8aeb-209e070ad4f8",
   "metadata": {},
   "outputs": [
    {
     "name": "stdout",
     "output_type": "stream",
     "text": [
      "U (Left Singular Vectors):\n",
      "[[ 0.70710678 -0.70710678]\n",
      " [ 0.70710678  0.70710678]]\n"
     ]
    }
   ],
   "source": [
    "print(\"U (Left Singular Vectors):\")\n",
    "print(U)"
   ]
  },
  {
   "cell_type": "code",
   "execution_count": 6,
   "id": "f23159f6-a30c-4518-943a-609e234d1661",
   "metadata": {},
   "outputs": [
    {
     "name": "stdout",
     "output_type": "stream",
     "text": [
      "\n",
      "S (Singular Values):\n",
      "[3.46410162 3.16227766]\n"
     ]
    }
   ],
   "source": [
    "print(\"\\nS (Singular Values):\")\n",
    "print(S)"
   ]
  },
  {
   "cell_type": "code",
   "execution_count": 7,
   "id": "701fa242-7d9e-4629-85a8-8e43026ea50f",
   "metadata": {},
   "outputs": [
    {
     "name": "stdout",
     "output_type": "stream",
     "text": [
      "\n",
      "VT (Right Singular Vectors Transposed):\n",
      "[[ 4.08248290e-01  8.16496581e-01  4.08248290e-01]\n",
      " [-8.94427191e-01  4.47213595e-01  8.59279716e-16]\n",
      " [-1.82574186e-01 -3.65148372e-01  9.12870929e-01]]\n"
     ]
    }
   ],
   "source": [
    "print(\"\\nVT (Right Singular Vectors Transposed):\")\n",
    "print(VT)"
   ]
  },
  {
   "cell_type": "markdown",
   "id": "c467dfa4-1b41-4a2d-ad4e-fcea97839c02",
   "metadata": {},
   "source": [
    "## Reconstruct the original matrix"
   ]
  },
  {
   "cell_type": "code",
   "execution_count": 8,
   "id": "0af5f15e-65c3-40c6-b8d1-a9c8f326b351",
   "metadata": {},
   "outputs": [],
   "source": [
    "Sigma = np.zeros((U.shape[1], VT.shape[0]))"
   ]
  },
  {
   "cell_type": "code",
   "execution_count": 9,
   "id": "743a265d-ba92-4d93-af9f-95b3fdcf4a23",
   "metadata": {},
   "outputs": [],
   "source": [
    "np.fill_diagonal(Sigma, S)"
   ]
  },
  {
   "cell_type": "code",
   "execution_count": 10,
   "id": "f44f7b49-2ca7-4727-b0f0-fb79b42f4a56",
   "metadata": {},
   "outputs": [],
   "source": [
    "\n",
    "A_reconstructed = U @ Sigma @ VT"
   ]
  },
  {
   "cell_type": "code",
   "execution_count": 11,
   "id": "d50d74b9-c57b-4ea9-a91d-cbef542058d6",
   "metadata": {},
   "outputs": [
    {
     "name": "stdout",
     "output_type": "stream",
     "text": [
      "\n",
      "Reconstructed Matrix A:\n",
      "[[ 3.  1.  1.]\n",
      " [-1.  3.  1.]]\n"
     ]
    }
   ],
   "source": [
    "print(\"\\nReconstructed Matrix A:\")\n",
    "print(A_reconstructed)"
   ]
  },
  {
   "cell_type": "code",
   "execution_count": null,
   "id": "f3a6707c-6904-4641-9678-d3408395ab75",
   "metadata": {},
   "outputs": [],
   "source": []
  }
 ],
 "metadata": {
  "kernelspec": {
   "display_name": "Python 3 (ipykernel)",
   "language": "python",
   "name": "python3"
  },
  "language_info": {
   "codemirror_mode": {
    "name": "ipython",
    "version": 3
   },
   "file_extension": ".py",
   "mimetype": "text/x-python",
   "name": "python",
   "nbconvert_exporter": "python",
   "pygments_lexer": "ipython3",
   "version": "3.11.7"
  }
 },
 "nbformat": 4,
 "nbformat_minor": 5
}
